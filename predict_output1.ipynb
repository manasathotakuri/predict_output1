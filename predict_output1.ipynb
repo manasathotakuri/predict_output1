{
  "nbformat": 4,
  "nbformat_minor": 0,
  "metadata": {
    "colab": {
      "provenance": []
    },
    "kernelspec": {
      "name": "python3",
      "display_name": "Python 3"
    },
    "language_info": {
      "name": "python"
    }
  },
  "cells": [
    {
      "cell_type": "code",
      "execution_count": null,
      "metadata": {
        "colab": {
          "base_uri": "https://localhost:8080/"
        },
        "id": "z8env-CqXcPW",
        "outputId": "0bb57e97-c600-4b73-87bd-fcd45d6778d7"
      },
      "outputs": [
        {
          "output_type": "stream",
          "name": "stdout",
          "text": [
            "10\n"
          ]
        }
      ],
      "source": [
        "whatIf=\"The world ends today\"\n",
        "print(len(whatIf)-len(\"NOT AT ALL\"))"
      ]
    },
    {
      "cell_type": "code",
      "source": [
        "m=[\"Dune\",\"Jaws\",\"vp\",\"Titanic\",\"Ratatouille\"]\n",
        "print(m[-2][3]+m[-1][-1]+m[-1][-4]+m[4][-6]+m[-5][1])\n"
      ],
      "metadata": {
        "colab": {
          "base_uri": "https://localhost:8080/"
        },
        "id": "CjHsuC3oXng3",
        "outputId": "a2f431d5-620e-4046-8194-bd6c2e1fe2bd"
      },
      "execution_count": null,
      "outputs": [
        {
          "output_type": "stream",
          "name": "stdout",
          "text": [
            "aeiou\n"
          ]
        }
      ]
    },
    {
      "cell_type": "code",
      "source": [
        "strength={\"IT\":70,\"ECE\":65,\"EEE\":75,\"AIML\":50}\n",
        "strength.update({\"CSE\":64})\n",
        "print(strength)\n"
      ],
      "metadata": {
        "colab": {
          "base_uri": "https://localhost:8080/"
        },
        "id": "Ohs8wL9aXvJk",
        "outputId": "98288478-4815-4911-fe68-6733b3ca504c"
      },
      "execution_count": null,
      "outputs": [
        {
          "output_type": "stream",
          "name": "stdout",
          "text": [
            "{'IT': 70, 'ECE': 65, 'EEE': 75, 'AIML': 50, 'CSE': 64}\n"
          ]
        }
      ]
    },
    {
      "cell_type": "code",
      "source": [
        "event=\"Easter at April 20\"\n",
        "L=event.split(\" \")\n",
        "print(\"#\".join(L[::-2]))"
      ],
      "metadata": {
        "colab": {
          "base_uri": "https://localhost:8080/"
        },
        "id": "xsoFnonBXzl9",
        "outputId": "1ba24dcf-9d7c-4063-ea78-1fd29b022732"
      },
      "execution_count": null,
      "outputs": [
        {
          "output_type": "stream",
          "name": "stdout",
          "text": [
            "20#at\n"
          ]
        }
      ]
    },
    {
      "cell_type": "code",
      "source": [
        "name=\"college of engineering\"\n",
        "print(name[8:11]+\"cyc\"+name[3]+name[-3:])\n"
      ],
      "metadata": {
        "colab": {
          "base_uri": "https://localhost:8080/"
        },
        "id": "Ev-a37uiX5N0",
        "outputId": "fdd8ada2-4db8-4685-ea69-db7408374b69"
      },
      "execution_count": null,
      "outputs": [
        {
          "output_type": "stream",
          "name": "stdout",
          "text": [
            "of cycling\n"
          ]
        }
      ]
    },
    {
      "cell_type": "code",
      "source": [
        "print(float(5+int(4.39+2.1)%2))\n"
      ],
      "metadata": {
        "colab": {
          "base_uri": "https://localhost:8080/"
        },
        "id": "_Nkho6odX9UV",
        "outputId": "b34a57ab-aef1-4df2-827e-83979a3e7d5e"
      },
      "execution_count": null,
      "outputs": [
        {
          "output_type": "stream",
          "name": "stdout",
          "text": [
            "5.0\n"
          ]
        }
      ]
    },
    {
      "cell_type": "code",
      "source": [
        "print(3*1**3)\n"
      ],
      "metadata": {
        "colab": {
          "base_uri": "https://localhost:8080/"
        },
        "id": "uaB-TEbsYBBl",
        "outputId": "7008b926-ee37-4a23-fe94-913293cbe5de"
      },
      "execution_count": null,
      "outputs": [
        {
          "output_type": "stream",
          "name": "stdout",
          "text": [
            "3\n"
          ]
        }
      ]
    },
    {
      "cell_type": "code",
      "source": [
        "p,q=8,3\n",
        "p,q,p=p+1,q+5,p+10\n",
        "print(p,q)\n"
      ],
      "metadata": {
        "colab": {
          "base_uri": "https://localhost:8080/"
        },
        "id": "G076XisNYEuT",
        "outputId": "46d69d19-03a8-4933-80a6-97cf7787252b"
      },
      "execution_count": null,
      "outputs": [
        {
          "output_type": "stream",
          "name": "stdout",
          "text": [
            "18 8\n"
          ]
        }
      ]
    },
    {
      "cell_type": "code",
      "source": [
        "print(16//3+3**3+15/4-9)"
      ],
      "metadata": {
        "colab": {
          "base_uri": "https://localhost:8080/"
        },
        "id": "yxtow2tFYIpE",
        "outputId": "b511a3fb-df90-4b0e-82de-27fba610de3f"
      },
      "execution_count": null,
      "outputs": [
        {
          "output_type": "stream",
          "name": "stdout",
          "text": [
            "26.75\n"
          ]
        }
      ]
    },
    {
      "cell_type": "code",
      "source": [
        "t=(2,4,(6,8,(10,12)),14)\n",
        "print(t[2][2][0]*t[0]+t[-1])"
      ],
      "metadata": {
        "colab": {
          "base_uri": "https://localhost:8080/"
        },
        "id": "sMhcg8eiYNBS",
        "outputId": "310b8513-0a23-4216-de4d-37024a0d645f"
      },
      "execution_count": null,
      "outputs": [
        {
          "output_type": "stream",
          "name": "stdout",
          "text": [
            "34\n"
          ]
        }
      ]
    }
  ]
}